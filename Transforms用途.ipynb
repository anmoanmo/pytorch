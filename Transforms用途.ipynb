{
 "cells": [
  {
   "cell_type": "code",
   "execution_count": 2,
   "id": "initial_id",
   "metadata": {
    "collapsed": true,
    "ExecuteTime": {
     "end_time": "2024-04-16T13:31:47.380270Z",
     "start_time": "2024-04-16T13:31:47.355886Z"
    }
   },
   "outputs": [
    {
     "name": "stdout",
     "output_type": "stream",
     "text": [
      "tensor([[[0.3255, 0.3255, 0.3098,  ..., 0.6941, 0.7176, 0.7373],\n",
      "         [0.3373, 0.3373, 0.3294,  ..., 0.6784, 0.6980, 0.7216],\n",
      "         [0.3216, 0.3255, 0.3176,  ..., 0.6588, 0.6784, 0.6980],\n",
      "         ...,\n",
      "         [0.2000, 0.2157, 0.2431,  ..., 0.6549, 0.6588, 0.6549],\n",
      "         [0.1922, 0.2078, 0.2392,  ..., 0.6431, 0.6471, 0.6431],\n",
      "         [0.1922, 0.2078, 0.2431,  ..., 0.6314, 0.6392, 0.6314]],\n",
      "\n",
      "        [[0.3490, 0.3490, 0.3412,  ..., 0.7725, 0.7804, 0.8000],\n",
      "         [0.3608, 0.3608, 0.3608,  ..., 0.7569, 0.7686, 0.7843],\n",
      "         [0.3451, 0.3490, 0.3490,  ..., 0.7373, 0.7490, 0.7686],\n",
      "         ...,\n",
      "         [0.2902, 0.3059, 0.3333,  ..., 0.8000, 0.7882, 0.7843],\n",
      "         [0.2824, 0.2980, 0.3294,  ..., 0.7882, 0.7765, 0.7725],\n",
      "         [0.2824, 0.2980, 0.3333,  ..., 0.7765, 0.7686, 0.7608]],\n",
      "\n",
      "        [[0.2000, 0.2000, 0.1882,  ..., 0.5647, 0.5882, 0.6157],\n",
      "         [0.2118, 0.2118, 0.2078,  ..., 0.5490, 0.5725, 0.6000],\n",
      "         [0.2039, 0.2078, 0.2039,  ..., 0.5294, 0.5529, 0.5804],\n",
      "         ...,\n",
      "         [0.1765, 0.1922, 0.2196,  ..., 0.6275, 0.6118, 0.6078],\n",
      "         [0.1686, 0.1843, 0.2157,  ..., 0.6157, 0.6000, 0.5961],\n",
      "         [0.1686, 0.1843, 0.2196,  ..., 0.6039, 0.5922, 0.5843]]])\n"
     ]
    }
   ],
   "source": [
    "from torchvision import transforms\n",
    "from PIL import Image\n",
    "\n",
    "img_path = 'Data/FirstTypeData/val/bees/6a00d8341c630a53ef00e553d0beb18834-800wi.jpg'\n",
    "img = Image.open(img_path)\n",
    "\n",
    "tensor_trans = transforms.ToTensor()\n",
    "tensor_img = tensor_trans(img)\n",
    "print(tensor_img)"
   ]
  },
  {
   "cell_type": "code",
   "outputs": [],
   "source": [
    "from torch.utils.tensorboard import SummaryWriter\n",
    "from torchvision import transforms\n",
    "from PIL import Image\n",
    "import cv2\n",
    "\n",
    "img_path = \"Data/FirstTypeData/val/bees/10870992_eebeeb3a12.jpg\"\n",
    "img = Image.open(img_path)\n",
    "\n",
    "writer = SummaryWriter(\"logs\") \n",
    "\n",
    "tensor_trans = transforms.ToTensor() \n",
    "tensor_img = tensor_trans(img)  \n",
    "\n",
    "writer.add_image(\"Temsor_img\",tensor_img) \n",
    "writer.close()"
   ],
   "metadata": {
    "collapsed": false,
    "ExecuteTime": {
     "end_time": "2024-04-16T13:33:53.398755Z",
     "start_time": "2024-04-16T13:33:53.118731Z"
    }
   },
   "id": "df796f5b89093777",
   "execution_count": 4
  }
 ],
 "metadata": {
  "kernelspec": {
   "display_name": "Python 3",
   "language": "python",
   "name": "python3"
  },
  "language_info": {
   "codemirror_mode": {
    "name": "ipython",
    "version": 2
   },
   "file_extension": ".py",
   "mimetype": "text/x-python",
   "name": "python",
   "nbconvert_exporter": "python",
   "pygments_lexer": "ipython2",
   "version": "2.7.6"
  }
 },
 "nbformat": 4,
 "nbformat_minor": 5
}
